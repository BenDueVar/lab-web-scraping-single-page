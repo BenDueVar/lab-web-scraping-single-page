{
 "cells": [
  {
   "cell_type": "code",
   "execution_count": 1,
   "id": "931af286",
   "metadata": {},
   "outputs": [],
   "source": [
    "from bs4 import BeautifulSoup\n",
    "import requests\n",
    "import pandas as pd"
   ]
  },
  {
   "cell_type": "code",
   "execution_count": 2,
   "id": "b1b63f7d",
   "metadata": {},
   "outputs": [
    {
     "data": {
      "text/plain": [
       "200"
      ]
     },
     "execution_count": 2,
     "metadata": {},
     "output_type": "execute_result"
    }
   ],
   "source": [
    "response = requests.get('https://www.popvortex.com/music/charts/top-100-songs.php')\n",
    "response.status_code"
   ]
  },
  {
   "cell_type": "code",
   "execution_count": 3,
   "id": "89b0ce24",
   "metadata": {},
   "outputs": [],
   "source": [
    "soup = BeautifulSoup(response.content, \"html.parser\")"
   ]
  },
  {
   "cell_type": "code",
   "execution_count": 4,
   "id": "c642962c",
   "metadata": {},
   "outputs": [
    {
     "data": {
      "text/plain": [
       "100"
      ]
     },
     "execution_count": 4,
     "metadata": {},
     "output_type": "execute_result"
    }
   ],
   "source": [
    "title_names = soup.find_all(\"cite\", \"title\")\n",
    "title = []\n",
    "for i in title_names:\n",
    "    title.append(i.text)\n",
    "    \n",
    "len(title)"
   ]
  },
  {
   "cell_type": "code",
   "execution_count": 5,
   "id": "a99d7985",
   "metadata": {},
   "outputs": [
    {
     "data": {
      "text/plain": [
       "100"
      ]
     },
     "execution_count": 5,
     "metadata": {},
     "output_type": "execute_result"
    }
   ],
   "source": [
    "artist_names = soup.find_all(\"em\", \"artist\")\n",
    "artist = []\n",
    "for i in artist_names:\n",
    "    artist.append(i.text)\n",
    "    \n",
    "len(artist)"
   ]
  },
  {
   "cell_type": "code",
   "execution_count": 13,
   "id": "2571205c",
   "metadata": {},
   "outputs": [],
   "source": [
    "genre_li_elements = soup.find_all('strong', string=\"Genre\")\n",
    "genres = []\n",
    "for li_element in genre_li_elements:\n",
    "    a_element = li_element.find_next('a', href=True)\n",
    "    if a_element:\n",
    "        genres.append(a_element.text)\n",
    "# first I recognize that every genre starts with an strong attribute and a genre string. So i put them all together in \"genre_li_elements\"\n",
    "# second I extract the string that comes after a href in a A attribute.  "
   ]
  },
  {
   "cell_type": "code",
   "execution_count": 14,
   "id": "dd0ef3bf",
   "metadata": {},
   "outputs": [
    {
     "data": {
      "text/html": [
       "<div>\n",
       "<style scoped>\n",
       "    .dataframe tbody tr th:only-of-type {\n",
       "        vertical-align: middle;\n",
       "    }\n",
       "\n",
       "    .dataframe tbody tr th {\n",
       "        vertical-align: top;\n",
       "    }\n",
       "\n",
       "    .dataframe thead th {\n",
       "        text-align: right;\n",
       "    }\n",
       "</style>\n",
       "<table border=\"1\" class=\"dataframe\">\n",
       "  <thead>\n",
       "    <tr style=\"text-align: right;\">\n",
       "      <th></th>\n",
       "      <th>title</th>\n",
       "      <th>artist</th>\n",
       "      <th>genres</th>\n",
       "    </tr>\n",
       "  </thead>\n",
       "  <tbody>\n",
       "    <tr>\n",
       "      <th>0</th>\n",
       "      <td>Not Like Us</td>\n",
       "      <td>Kendrick Lamar</td>\n",
       "      <td>Hip-Hop / Rap</td>\n",
       "    </tr>\n",
       "    <tr>\n",
       "      <th>1</th>\n",
       "      <td>A Bar Song (Tipsy)</td>\n",
       "      <td>Shaboozey</td>\n",
       "      <td>Country</td>\n",
       "    </tr>\n",
       "    <tr>\n",
       "      <th>2</th>\n",
       "      <td>meet the grahams</td>\n",
       "      <td>Kendrick Lamar</td>\n",
       "      <td>Hip-Hop / Rap</td>\n",
       "    </tr>\n",
       "    <tr>\n",
       "      <th>3</th>\n",
       "      <td>Where That Came From</td>\n",
       "      <td>Randy Travis</td>\n",
       "      <td>Country</td>\n",
       "    </tr>\n",
       "    <tr>\n",
       "      <th>4</th>\n",
       "      <td>euphoria</td>\n",
       "      <td>Kendrick Lamar</td>\n",
       "      <td>Hip-Hop / Rap</td>\n",
       "    </tr>\n",
       "    <tr>\n",
       "      <th>...</th>\n",
       "      <td>...</td>\n",
       "      <td>...</td>\n",
       "      <td>...</td>\n",
       "    </tr>\n",
       "    <tr>\n",
       "      <th>95</th>\n",
       "      <td>Wranglers</td>\n",
       "      <td>Miranda Lambert</td>\n",
       "      <td>Country</td>\n",
       "    </tr>\n",
       "    <tr>\n",
       "      <th>96</th>\n",
       "      <td>Counting My Blessings (Collab Version)</td>\n",
       "      <td>Seph Schlueter &amp; Matt Maher</td>\n",
       "      <td>Christian &amp; Gospel</td>\n",
       "    </tr>\n",
       "    <tr>\n",
       "      <th>97</th>\n",
       "      <td>Gonna Find Out</td>\n",
       "      <td>Kate Hudson</td>\n",
       "      <td>Pop</td>\n",
       "    </tr>\n",
       "    <tr>\n",
       "      <th>98</th>\n",
       "      <td>Divine</td>\n",
       "      <td>All That Remains</td>\n",
       "      <td>Rock</td>\n",
       "    </tr>\n",
       "    <tr>\n",
       "      <th>99</th>\n",
       "      <td>Dance Before We Walk</td>\n",
       "      <td>August Moon</td>\n",
       "      <td>Soundtrack</td>\n",
       "    </tr>\n",
       "  </tbody>\n",
       "</table>\n",
       "<p>100 rows × 3 columns</p>\n",
       "</div>"
      ],
      "text/plain": [
       "                                     title                       artist  \\\n",
       "0                              Not Like Us               Kendrick Lamar   \n",
       "1                       A Bar Song (Tipsy)                    Shaboozey   \n",
       "2                         meet the grahams               Kendrick Lamar   \n",
       "3                     Where That Came From                 Randy Travis   \n",
       "4                                 euphoria               Kendrick Lamar   \n",
       "..                                     ...                          ...   \n",
       "95                               Wranglers              Miranda Lambert   \n",
       "96  Counting My Blessings (Collab Version)  Seph Schlueter & Matt Maher   \n",
       "97                          Gonna Find Out                  Kate Hudson   \n",
       "98                                  Divine             All That Remains   \n",
       "99                    Dance Before We Walk                  August Moon   \n",
       "\n",
       "                genres  \n",
       "0        Hip-Hop / Rap  \n",
       "1              Country  \n",
       "2        Hip-Hop / Rap  \n",
       "3              Country  \n",
       "4        Hip-Hop / Rap  \n",
       "..                 ...  \n",
       "95             Country  \n",
       "96  Christian & Gospel  \n",
       "97                 Pop  \n",
       "98                Rock  \n",
       "99          Soundtrack  \n",
       "\n",
       "[100 rows x 3 columns]"
      ]
     },
     "execution_count": 14,
     "metadata": {},
     "output_type": "execute_result"
    }
   ],
   "source": [
    "top_100 = pd.DataFrame({\"title\":title,\"artist\":artist,\"genres\":genres})\n",
    "top_100"
   ]
  },
  {
   "cell_type": "code",
   "execution_count": 31,
   "id": "86c91f2e",
   "metadata": {},
   "outputs": [
    {
     "data": {
      "text/plain": [
       "['/music/charts/top-rap-songs.php',\n",
       " '/music/charts/top-country-songs.php',\n",
       " '/music/charts/top-rap-songs.php',\n",
       " '/music/charts/top-country-songs.php',\n",
       " '/music/charts/top-rap-songs.php',\n",
       " '/music/charts/top-kpop-songs.php',\n",
       " '/music/charts/top-pop-songs.php',\n",
       " '/music/charts/top-rap-songs.php',\n",
       " '/music/charts/top-country-songs.php',\n",
       " '/music/charts/top-country-songs.php',\n",
       " '/music/charts/top-pop-songs.php',\n",
       " '/music/charts/top-alternative-songs.php',\n",
       " '/music/charts/top-rap-songs.php',\n",
       " '/music/charts/top-country-songs.php',\n",
       " '/music/charts/top-pop-songs.php',\n",
       " '/music/charts/top-pop-songs.php',\n",
       " '/music/charts/top-pop-songs.php',\n",
       " '/music/charts/top-rap-songs.php',\n",
       " '/music/charts/top-pop-songs.php',\n",
       " '/music/charts/top-pop-songs.php',\n",
       " '/music/charts/top-rap-songs.php',\n",
       " '/music/charts/top-country-songs.php',\n",
       " '/music/charts/top-country-songs.php',\n",
       " '/music/charts/top-country-songs.php',\n",
       " '/music/charts/top-country-songs.php',\n",
       " '/music/charts/top-pop-songs.php',\n",
       " '/music/charts/top-pop-songs.php',\n",
       " '/music/charts/top-rap-songs.php',\n",
       " '/music/charts/top-country-songs.php',\n",
       " '/music/charts/top-country-songs.php',\n",
       " '/music/charts/top-pop-songs.php',\n",
       " '/music/charts/top-pop-songs.php',\n",
       " '/music/charts/top-dance-songs.php',\n",
       " '/music/charts/top-pop-songs.php',\n",
       " '/music/charts/top-pop-songs.php',\n",
       " '/music/charts/top-country-songs.php',\n",
       " '/music/charts/top-country-songs.php',\n",
       " '/music/charts/top-country-songs.php',\n",
       " 'https://music.apple.com/us/album/save-me/1520495044?i=1520495045&uo=2&partnerId=11&at=10l4UI&itsct=music_box_link&itscg=30200&ls=1&ct=music-songs&app=music',\n",
       " '/music/charts/top-country-songs.php',\n",
       " '/music/charts/top-country-songs.php',\n",
       " '/music/charts/top-country-songs.php',\n",
       " '/music/charts/top-country-songs.php',\n",
       " '/music/charts/top-country-songs.php',\n",
       " '/music/charts/top-country-songs.php',\n",
       " '/music/charts/top-christian-gospel-songs.php',\n",
       " '/music/charts/top-pop-songs.php',\n",
       " '/music/charts/top-country-songs.php',\n",
       " '/music/charts/top-christian-gospel-songs.php',\n",
       " '/music/charts/top-rap-songs.php',\n",
       " '/music/charts/top-soundtrack-songs.php',\n",
       " '/music/charts/top-country-songs.php',\n",
       " '/music/charts/top-country-songs.php',\n",
       " '/music/charts/top-alternative-songs.php',\n",
       " '/music/charts/top-country-songs.php',\n",
       " '/music/charts/top-country-songs.php',\n",
       " '/music/charts/top-pop-songs.php',\n",
       " '/music/charts/top-country-songs.php',\n",
       " '/music/charts/top-country-songs.php',\n",
       " '/music/charts/top-pop-songs.php',\n",
       " '/music/charts/top-pop-songs.php',\n",
       " '/music/charts/top-pop-songs.php',\n",
       " '/music/charts/top-pop-songs.php',\n",
       " '/music/charts/top-country-songs.php',\n",
       " '/music/charts/top-country-songs.php',\n",
       " '/music/charts/top-country-songs.php',\n",
       " '/music/charts/top-country-songs.php',\n",
       " '/music/charts/top-christian-gospel-songs.php',\n",
       " '/music/charts/top-christian-gospel-songs.php',\n",
       " '/music/charts/top-pop-songs.php',\n",
       " '/music/charts/top-pop-songs.php',\n",
       " '/music/charts/top-country-songs.php',\n",
       " '/music/charts/top-pop-songs.php',\n",
       " '/music/charts/top-rap-songs.php',\n",
       " '/music/charts/top-country-songs.php',\n",
       " '/music/charts/top-alternative-songs.php',\n",
       " '/music/charts/top-rock-songs.php',\n",
       " '/music/charts/top-rock-songs.php',\n",
       " '/music/charts/top-rap-songs.php',\n",
       " '/music/charts/top-soul-songs.php',\n",
       " '/music/charts/top-country-songs.php',\n",
       " '/music/charts/top-country-songs.php',\n",
       " '/music/charts/top-pop-songs.php',\n",
       " '/music/charts/top-soul-songs.php',\n",
       " '/music/charts/top-pop-songs.php',\n",
       " '/music/charts/top-pop-songs.php',\n",
       " '/music/charts/top-country-songs.php',\n",
       " 'https://music.apple.com/us/album/i-was-made-for-lovin-you/1440658055?i=1440658917&uo=2&partnerId=11&at=10l4UI&itsct=music_box_link&itscg=30200&ls=1&ct=music-songs&app=music',\n",
       " '/music/charts/top-alternative-songs.php',\n",
       " '/music/charts/top-dance-songs.php',\n",
       " '/music/charts/top-christian-gospel-songs.php',\n",
       " '/music/charts/top-country-songs.php',\n",
       " '/music/charts/top-alternative-songs.php',\n",
       " 'https://music.apple.com/us/album/a-symptom-of-being-human/1606457044?i=1606457294&uo=2&partnerId=11&at=10l4UI&itsct=music_box_link&itscg=30200&ls=1&ct=music-songs&app=music',\n",
       " '/music/charts/top-pop-songs.php',\n",
       " '/music/charts/top-country-songs.php',\n",
       " '/music/charts/top-christian-gospel-songs.php',\n",
       " '/music/charts/top-pop-songs.php',\n",
       " '/music/charts/top-rock-songs.php',\n",
       " '/music/charts/top-soundtrack-songs.php']"
      ]
     },
     "execution_count": 31,
     "metadata": {},
     "output_type": "execute_result"
    }
   ],
   "source": [
    "# My goal is to create a file that receives an input and then goes to the assigned link and suggest all the songs in that link\n",
    "\n",
    "\n",
    "genre_li_elements = soup.find_all('strong', string=\"Genre\")\n",
    "links = []\n",
    "for li_element in genre_li_elements:\n",
    "    a_element = li_element.find_next('a', href=True)\n",
    "    if a_element:\n",
    "        links.append(a_element.get('href'))\n",
    "        \n",
    "links"
   ]
  }
 ],
 "metadata": {
  "kernelspec": {
   "display_name": "Python 3 (ipykernel)",
   "language": "python",
   "name": "python3"
  },
  "language_info": {
   "codemirror_mode": {
    "name": "ipython",
    "version": 3
   },
   "file_extension": ".py",
   "mimetype": "text/x-python",
   "name": "python",
   "nbconvert_exporter": "python",
   "pygments_lexer": "ipython3",
   "version": "3.11.5"
  }
 },
 "nbformat": 4,
 "nbformat_minor": 5
}
